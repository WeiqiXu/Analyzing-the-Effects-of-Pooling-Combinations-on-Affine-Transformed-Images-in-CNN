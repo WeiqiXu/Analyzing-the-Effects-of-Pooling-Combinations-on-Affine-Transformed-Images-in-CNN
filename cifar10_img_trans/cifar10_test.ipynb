{
 "cells": [
  {
   "cell_type": "markdown",
   "metadata": {},
   "source": [
    "## 利用训练好的模型测试指定数据集（修改test.prototxt以修改测试集）\n",
    "$Meringue$\n",
    "$5/9/2017$"
   ]
  },
  {
   "cell_type": "code",
   "execution_count": 1,
   "metadata": {
    "collapsed": true
   },
   "outputs": [],
   "source": [
    "import numpy as np\n",
    "import os\n",
    "import sys\n",
    "\n",
    "import matplotlib.pyplot as plt\n",
    "%matplotlib inline\n",
    "plt.rcParams['figure.figsize'] = (16,16)\n",
    "plt.rcParams['image.interpolation'] = 'nearest'"
   ]
  },
  {
   "cell_type": "code",
   "execution_count": 2,
   "metadata": {
    "collapsed": true
   },
   "outputs": [],
   "source": [
    "caffe_root = '/home/meringue/Softwares/caffe-master/'\n",
    "sys.path.insert(0, caffe_root+'python')\n",
    "cifar10_root = '/home/meringue/Documents/CaffePy/cifar10py/'\n",
    "os.chdir(cifar10_root)\n",
    "import caffe"
   ]
  },
  {
   "cell_type": "code",
   "execution_count": 3,
   "metadata": {
    "collapsed": true
   },
   "outputs": [],
   "source": [
    "caffe.set_mode_gpu()\n",
    "model_def = cifar10_root+'cifar10_caffemodels/model_Alex_BN/cifar10_quick_BN_train_test.prototxt'\n",
    "# model_def = cifar10_root+'cifar10_caffemodels/model_VGG_quick/cifar10_quick_train_test.prototxt'\n",
    "caffe_model = cifar10_root+'cifar10_caffemodels/model_Alex_BN/model_Alex_BN/Alex_BN_1_iter_10000.caffemodel.h5'\n",
    "# caffe_model = cifar10_root+'cifar10_caffemodels/model_VGG_quick/aaa/cifar10_quick_iter_5000.caffemodel.h5'\n",
    "net = caffe.Net(model_def,caffe_model,caffe.TEST)"
   ]
  },
  {
   "cell_type": "code",
   "execution_count": 4,
   "metadata": {},
   "outputs": [
    {
     "data": {
      "text/plain": [
       "[('data', (100, 3, 32, 32)),\n",
       " ('label', (100,)),\n",
       " ('label_cifar_1_split_0', (100,)),\n",
       " ('label_cifar_1_split_1', (100,)),\n",
       " ('conv1', (100, 32, 32, 32)),\n",
       " ('pool1', (100, 32, 16, 16)),\n",
       " ('conv2', (100, 32, 16, 16)),\n",
       " ('pool2', (100, 32, 8, 8)),\n",
       " ('conv3', (100, 64, 8, 8)),\n",
       " ('pool3', (100, 64, 4, 4)),\n",
       " ('ip1', (100, 64)),\n",
       " ('ip2', (100, 10)),\n",
       " ('ip2_ip2_0_split_0', (100, 10)),\n",
       " ('ip2_ip2_0_split_1', (100, 10)),\n",
       " ('accuracy', ()),\n",
       " ('loss', ())]"
      ]
     },
     "execution_count": 4,
     "metadata": {},
     "output_type": "execute_result"
    }
   ],
   "source": [
    "[(k,v.data.shape) for k,v in net.blobs.items()]"
   ]
  },
  {
   "cell_type": "code",
   "execution_count": 5,
   "metadata": {},
   "outputs": [
    {
     "name": "stdout",
     "output_type": "stream",
     "text": [
      "test accuracy:  0.732599999905\n"
     ]
    }
   ],
   "source": [
    "##测试过程\n",
    "# 参数设置：此处参数由test.prototxt确定（否则会导致测试不完整）\n",
    "test_batch = 100 # 与test.prototxt中一致\n",
    "# test_batch = net.blobs['data'].data[0]\n",
    "test_num = 5000 # 测试集样本数量\n",
    "test_N = int(np.ceil(test_num/test_batch))\n",
    "acc_array = np.zeros((test_N,1))\n",
    "\n",
    "\n",
    "for test_it in range(test_N):\n",
    "    net.forward() #测试一个batch（batch大小可以在test.prototxt中设置）\n",
    "    acc_array[test_it] = net.blobs['accuracy'].data # 记录当前batch的准确率（即100个测试样本的准确率）\n",
    "\n",
    "print 'test accuracy: ', np.average(acc_array)"
   ]
  },
  {
   "cell_type": "code",
   "execution_count": 6,
   "metadata": {},
   "outputs": [
    {
     "name": "stdout",
     "output_type": "stream",
     "text": [
      "(3, 32, 32)\n"
     ]
    },
    {
     "data": {
      "image/png": "[encoded data removed]",
      "text/plain": [
       "<matplotlib.figure.Figure at 0x7fc879f35190>"
      ]
     },
     "metadata": {},
     "output_type": "display_data"
    }
   ],
   "source": [
    "plt.figure()\n",
    "plt.imshow(net.blobs['data'].data[0:5,0].transpose(1,0,2).reshape(1*32,5*32),cmap = 'gray')\n",
    "plt.axis('off')\n",
    "print net.blobs['data'].data[0,:].shape\n",
    "# plt.imshow(net.blobs['data'].data[0,:])\n",
    "\n",
    "# plt.figure()\n",
    "# plt.imshow(net.blobs['data'].data[0,:].transpose(1,0,2).reshape(32,32,3))"
   ]
  },
  {
   "cell_type": "code",
   "execution_count": 7,
   "metadata": {},
   "outputs": [
    {
     "data": {
      "text/plain": [
       "(-0.5, 63.5, 15.5, -0.5)"
      ]
     },
     "execution_count": 7,
     "metadata": {},
     "output_type": "execute_result"
    },
    {
     "data": {
      "image/png": "[encoded data removed]",
      "text/plain": [
       "<matplotlib.figure.Figure at 0x7fc879f2f0d0>"
      ]
     },
     "metadata": {},
     "output_type": "display_data"
    }
   ],
   "source": [
    "plt.imshow(net.blobs['pool1'].data[11:15,1].transpose(1,0,2).reshape(1*16,4*16),cmap = 'gray')\n",
    "plt.axis('off')\n",
    "# print net.blobs['data'].data[0,1]"
   ]
  },
  {
   "cell_type": "code",
   "execution_count": null,
   "metadata": {
    "collapsed": true
   },
   "outputs": [],
   "source": []
  }
 ],
 "metadata": {
  "kernelspec": {
   "display_name": "Python 2",
   "language": "python",
   "name": "python2"
  },
  "language_info": {
   "codemirror_mode": {
    "name": "ipython",
    "version": 2
   },
   "file_extension": ".py",
   "mimetype": "text/x-python",
   "name": "python",
   "nbconvert_exporter": "python",
   "pygments_lexer": "ipython2",
   "version": "2.7.12"
  }
 },
 "nbformat": 4,
 "nbformat_minor": 2
}
