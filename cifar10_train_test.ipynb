{
 "cells": [
  {
   "cell_type": "markdown",
   "metadata": {
    "deletable": true,
    "editable": true
   },
   "source": [
    "# CIFAR10模型训练与测试\n",
    "$Meringue$\n",
    "$5/8/2017$"
   ]
  },
  {
   "cell_type": "code",
   "execution_count": 1,
   "metadata": {
    "collapsed": false,
    "deletable": true,
    "editable": true
   },
   "outputs": [],
   "source": [
    "import numpy as np\n",
    "import matplotlib.pyplot as plt\n",
    "%matplotlib inline"
   ]
  },
  {
   "cell_type": "code",
   "execution_count": 2,
   "metadata": {
    "collapsed": true,
    "deletable": true,
    "editable": true
   },
   "outputs": [],
   "source": [
    "import sys\n",
    "caffe_root = '/home/vicky/Software/caffe-master'\n",
    "sys.path.insert(0,caffe_root+'/python')\n",
    "import caffe"
   ]
  },
  {
   "cell_type": "code",
   "execution_count": 3,
   "metadata": {
    "collapsed": false,
    "deletable": true,
    "editable": true
   },
   "outputs": [],
   "source": [
    "import os\n",
    "os.chdir(caffe_root)\n",
    "caffe.set_device(0)\n",
    "caffe.set_mode_gpu()\n",
    "\n",
    "# solver = caffe.SGDSolver('/home/vicky/Documents/CaffePy/cifar10py/cifar10_caffemodels/model2/cifar10_quick_solver.prototxt')\n",
    "solver = caffe.SGDSolver('/home/vicky/Software/caffe-master/examples/cifar10/cifar10_quick_solver.prototxt')"
   ]
  },
  {
   "cell_type": "code",
   "execution_count": 4,
   "metadata": {
    "collapsed": false,
    "deletable": true,
    "editable": true
   },
   "outputs": [
    {
     "data": {
      "text/plain": [
       "[('data', (100, 3, 32, 32)),\n",
       " ('label', (100,)),\n",
       " ('conv1', (100, 32, 32, 32)),\n",
       " ('pool1', (100, 32, 16, 16)),\n",
       " ('conv2', (100, 32, 16, 16)),\n",
       " ('pool2', (100, 32, 8, 8)),\n",
       " ('conv3', (100, 64, 8, 8)),\n",
       " ('pool3', (100, 64, 4, 4)),\n",
       " ('ip1', (100, 64)),\n",
       " ('ip2', (100, 10)),\n",
       " ('loss', ())]"
      ]
     },
     "execution_count": 4,
     "metadata": {},
     "output_type": "execute_result"
    }
   ],
   "source": [
    "[(k,v.data.shape) for k,v in solver.net.blobs.items()]"
   ]
  },
  {
   "cell_type": "markdown",
   "metadata": {
    "deletable": true,
    "editable": true
   },
   "source": [
    "### 两种训练方式"
   ]
  },
  {
   "cell_type": "markdown",
   "metadata": {
    "deletable": true,
    "editable": true
   },
   "source": [
    "#### 1. 一次训练整个模型"
   ]
  },
  {
   "cell_type": "code",
   "execution_count": 5,
   "metadata": {
    "collapsed": false,
    "deletable": true,
    "editable": true
   },
   "outputs": [
    {
     "name": "stdout",
     "output_type": "stream",
     "text": [
      "CPU times: user 46 s, sys: 8.77 s, total: 54.7 s\n",
      "Wall time: 46.5 s\n"
     ]
    }
   ],
   "source": [
    "%%time\n",
    "# 一次训练整个模型\n",
    "solver.solve()\n"
   ]
  },
  {
   "cell_type": "code",
   "execution_count": 6,
   "metadata": {
    "collapsed": false,
    "deletable": true,
    "editable": true
   },
   "outputs": [
    {
     "data": {
      "text/plain": [
       "array(0.6000000238418579, dtype=float32)"
      ]
     },
     "execution_count": 6,
     "metadata": {},
     "output_type": "execute_result"
    }
   ],
   "source": [
    "solver.test_nets[0].blobs['accuracy'].data # 准确率"
   ]
  },
  {
   "cell_type": "markdown",
   "metadata": {
    "deletable": true,
    "editable": true
   },
   "source": [
    "#### 2. 一步步训练并保存中间结果"
   ]
  },
  {
   "cell_type": "code",
   "execution_count": 9,
   "metadata": {
    "collapsed": false,
    "deletable": true,
    "editable": true
   },
   "outputs": [
    {
     "name": "stdout",
     "output_type": "stream",
     "text": [
      "training iteration 100\n",
      "training iteration 200\n",
      "training iteration 300\n",
      "training iteration 400\n",
      "training iteration 500\n",
      "training iteration 600\n",
      "training iteration 700\n",
      "training iteration 800\n",
      "training iteration 900\n",
      "training iteration 1000\n",
      "training iteration 1100\n",
      "training iteration 1200\n",
      "training iteration 1300\n",
      "training iteration 1400\n",
      "training iteration 1500\n",
      "training iteration 1600\n",
      "training iteration 1700\n",
      "training iteration 1800\n",
      "training iteration 1900\n",
      "training iteration 2000\n",
      "training iteration 2100\n",
      "training iteration 2200\n",
      "training iteration 2300\n",
      "training iteration 2400\n",
      "training iteration 2500\n",
      "training iteration 2600\n",
      "training iteration 2700\n",
      "training iteration 2800\n",
      "training iteration 2900\n",
      "training iteration 3000\n",
      "training iteration 3100\n",
      "training iteration 3200\n",
      "training iteration 3300\n",
      "training iteration 3400\n",
      "training iteration 3500\n",
      "training iteration 3600\n",
      "training iteration 3700\n",
      "training iteration 3800\n",
      "training iteration 3900\n",
      "training iteration 4000\n",
      "training iteration 4100\n",
      "training iteration 4200\n",
      "training iteration 4300\n",
      "training iteration 4400\n",
      "training iteration 4500\n",
      "training iteration 4600\n",
      "training iteration 4700\n",
      "training iteration 4800\n",
      "training iteration 4900\n",
      "training iteration 5000\n",
      "CPU times: user 47.3 s, sys: 8.53 s, total: 55.8 s\n",
      "Wall time: 47.7 s\n"
     ]
    }
   ],
   "source": [
    "%%time\n",
    "niter = 5000\n",
    "train_interval = 100\n",
    "# losses will also be stored in the log\n",
    "train_loss = np.zeros(niter)\n",
    "test_accuracy = np.zeros_like(train_loss)\n",
    "\n",
    "\n",
    "# the main solver loop\n",
    "for it in range(niter):\n",
    "    solver.step(1)  # SGD by Caffe(step by step)\n",
    "    \n",
    "    # store the train loss\n",
    "    if (it+1)%train_interval ==0:\n",
    "        print 'training iteration', it+1\n",
    "    train_loss[it] = solver.net.blobs['loss'].data\n",
    "    test_accuracy[it] = solver.test_nets[0].blobs['accuracy'].data  \n",
    "# '''"
   ]
  },
  {
   "cell_type": "code",
   "execution_count": 10,
   "metadata": {
    "collapsed": false,
    "deletable": true,
    "editable": true
   },
   "outputs": [
    {
     "data": {
      "text/plain": [
       "<matplotlib.text.Text at 0x7fc6f8f6e4d0>"
      ]
     },
     "execution_count": 10,
     "metadata": {},
     "output_type": "execute_result"
    },
    {
     "data": {
      "image/png": "[encoded data removed]",
      "text/plain": [
       "<matplotlib.figure.Figure at 0x7fc6f8fb9650>"
      ]
     },
     "metadata": {},
     "output_type": "display_data"
    }
   ],
   "source": [
    "interval = 20 # 采样间隔（便于画图显示）\n",
    "train_loss_reduct = train_loss[0:niter:interval]\n",
    "test_accuracy_reduct = test_accuracy[0:niter:interval]\n",
    "iter_reduct = range(niter)[0:niter:interval]\n",
    "\n",
    "## 结果显示\n",
    "_, ax1 = plt.subplots()\n",
    "ax2 = ax1.twinx()\n",
    "ax1.plot(iter_reduct,train_loss_reduct,'b')\n",
    "ax2.plot(iter_reduct,test_accuracy_reduct, 'r')\n",
    "ax1.set_xlabel('iteration')\n",
    "ax1.set_ylabel('train loss')\n",
    "ax2.set_ylabel('test accuracy')\n",
    "ax2.set_title('Test Accuracy: {:.4f}'.format(test_accuracy[-1]))"
   ]
  },
  {
   "cell_type": "code",
   "execution_count": null,
   "metadata": {
    "collapsed": true,
    "deletable": true,
    "editable": true
   },
   "outputs": [],
   "source": []
  }
 ],
 "metadata": {
  "celltoolbar": "Raw Cell Format",
  "kernelspec": {
   "display_name": "Python 2",
   "language": "python",
   "name": "python2"
  },
  "language_info": {
   "codemirror_mode": {
    "name": "ipython",
    "version": 2
   },
   "file_extension": ".py",
   "mimetype": "text/x-python",
   "name": "python",
   "nbconvert_exporter": "python",
   "pygments_lexer": "ipython2",
   "version": "2.7.12"
  }
 },
 "nbformat": 4,
 "nbformat_minor": 2
}
